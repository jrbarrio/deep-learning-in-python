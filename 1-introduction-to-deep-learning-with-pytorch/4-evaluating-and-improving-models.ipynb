{
 "cells": [
  {
   "cell_type": "markdown",
   "metadata": {},
   "source": [
    "# A deeper dive into loading data"
   ]
  },
  {
   "cell_type": "code",
   "execution_count": 47,
   "metadata": {},
   "outputs": [],
   "source": [
    "import numpy as np\n",
    "import pandas as pd\n",
    "import torch\n",
    "import torch.nn as nn\n",
    "from torch.utils.data import TensorDataset\n",
    "from torch.utils.data import DataLoader"
   ]
  },
  {
   "cell_type": "markdown",
   "metadata": {},
   "source": [
    "## Using the TensorDataset class"
   ]
  },
  {
   "cell_type": "code",
   "execution_count": 48,
   "metadata": {},
   "outputs": [
    {
     "name": "stdout",
     "output_type": "stream",
     "text": [
      "(tensor([0.9618, 0.7781, 0.2035, 0.1655, 0.5028, 0.1064, 0.8889, 0.7607],\n",
      "       dtype=torch.float64), tensor([0.7233], dtype=torch.float64))\n"
     ]
    }
   ],
   "source": [
    "np_features = np.array(np.random.rand(12, 8))\n",
    "np_target = np.array(np.random.rand(12, 1))\n",
    "\n",
    "torch_features = torch.tensor(np_features)\n",
    "torch_target = torch.tensor(np_target)\n",
    "\n",
    "dataset = TensorDataset(torch_features, torch_target)\n",
    "\n",
    "print(dataset[-1])"
   ]
  },
  {
   "cell_type": "markdown",
   "metadata": {},
   "source": [
    "## From data loading to running a forward pass"
   ]
  },
  {
   "cell_type": "code",
   "execution_count": 49,
   "metadata": {},
   "outputs": [
    {
     "name": "stdout",
     "output_type": "stream",
     "text": [
      "tensor([[0.6601],\n",
      "        [0.6613],\n",
      "        [0.6491],\n",
      "        [0.6865],\n",
      "        [0.6694],\n",
      "        [0.6662],\n",
      "        [0.6224],\n",
      "        [0.6271],\n",
      "        [0.6798],\n",
      "        [0.7038]], grad_fn=<AddmmBackward0>)\n"
     ]
    }
   ],
   "source": [
    "dataframe = pd.read_csv(\"./data/animals.csv\")\n",
    "\n",
    "features_array = dataframe[['ph', 'Sulfate', 'Conductivity', 'Organic_carbon']]\n",
    "target_array = dataframe['Potability']\n",
    "\n",
    "features = torch.tensor(np.array(features_array)).float()\n",
    "target = torch.tensor(np.array(target_array)).float()\n",
    "\n",
    "dataset = TensorDataset(features, target)\n",
    "\n",
    "dataloader = DataLoader(dataset, shuffle=True, batch_size=2)\n",
    "x, y = next(iter(dataloader))\n",
    "\n",
    "model = nn.Sequential(nn.Linear(4, 2), nn.Linear(2, 1))\n",
    "output = model(features)\n",
    "print(output)"
   ]
  }
 ],
 "metadata": {
  "kernelspec": {
   "display_name": "deep-learning-in-python",
   "language": "python",
   "name": "python3"
  },
  "language_info": {
   "codemirror_mode": {
    "name": "ipython",
    "version": 3
   },
   "file_extension": ".py",
   "mimetype": "text/x-python",
   "name": "python",
   "nbconvert_exporter": "python",
   "pygments_lexer": "ipython3",
   "version": "3.11.7"
  }
 },
 "nbformat": 4,
 "nbformat_minor": 2
}
