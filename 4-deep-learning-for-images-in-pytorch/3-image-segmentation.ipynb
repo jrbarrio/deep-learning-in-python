{
 "cells": [
  {
   "cell_type": "markdown",
   "metadata": {},
   "source": [
    "# Introduction to image segmentation"
   ]
  },
  {
   "cell_type": "code",
   "execution_count": null,
   "metadata": {},
   "outputs": [],
   "source": [
    "import torch\n",
    "import torch.nn as nn\n",
    "import torchvision.transforms as transforms\n",
    "\n",
    "from PIL import Image\n",
    "import matplotlib.pyplot as plt\n",
    "\n",
    "from torchvision.models.detection import maskrcnn_resnet50_fpn"
   ]
  },
  {
   "cell_type": "markdown",
   "metadata": {},
   "source": [
    "## Creating binary masks"
   ]
  },
  {
   "cell_type": "code",
   "execution_count": null,
   "metadata": {},
   "outputs": [],
   "source": [
    "# Load mask image\n",
    "mask = Image.open(\"annotations/Egyptian_Mau_123.png\")\n",
    "\n",
    "# Transform mask to tensor\n",
    "transform = transforms.Compose([transforms.ToTensor()])\n",
    "mask_tensor = transform(mask)\n",
    "\n",
    "# Create binary mask\n",
    "binary_mask = torch.where(\n",
    "    mask_tensor == 1/255,\n",
    "    torch.tensor(1.0),\n",
    "    torch.tensor(0.0),\n",
    ")\n",
    "\n",
    "# Print unique mask values\n",
    "print(binary_mask.unique())"
   ]
  },
  {
   "cell_type": "markdown",
   "metadata": {},
   "source": [
    "## Segmenting image with a mask"
   ]
  },
  {
   "cell_type": "code",
   "execution_count": null,
   "metadata": {},
   "outputs": [],
   "source": [
    "# Load image and transform to tensor\n",
    "image = Image.open(\"images/Egyptian_Mau_123.jpg\")\n",
    "transform = transforms.Compose([transforms.ToTensor()])\n",
    "image_tensor = transform(image)\n",
    "\n",
    "# Segment object out of the image\n",
    "object_tensor = image_tensor * binary_mask\n",
    "\n",
    "# Convert segmented object to image and display\n",
    "to_pil_image = transforms.ToPILImage()\n",
    "object_image = to_pil_image(object_tensor)\n",
    "plt.imshow(object_image)\n",
    "plt.show()"
   ]
  },
  {
   "cell_type": "markdown",
   "metadata": {},
   "source": [
    "# Instance segmentation with mask R-CNN"
   ]
  },
  {
   "cell_type": "markdown",
   "metadata": {},
   "source": [
    "## Segmenting with pre-trained Mask R-CNN"
   ]
  },
  {
   "cell_type": "code",
   "execution_count": null,
   "metadata": {},
   "outputs": [],
   "source": [
    "# Load a pre-trained Mask R-CNN model\n",
    "model = maskrcnn_resnet50_fpn(pretrained=True)\n",
    "model.eval()\n",
    "\n",
    "# Load an image and convert to a tensor\n",
    "image = Image.open(\"images/two_cats.jpg\")\n",
    "transform = transforms.Compose([transforms.ToTensor()])\n",
    "image_tensor = transform(image).unsqueeze(0)\n",
    "\n",
    "# Perform inference\n",
    "with torch.no_grad():\n",
    "    prediction = model(image_tensor)\n",
    "    print(prediction)"
   ]
  },
  {
   "cell_type": "markdown",
   "metadata": {},
   "source": [
    "## Displaying soft masks"
   ]
  },
  {
   "cell_type": "code",
   "execution_count": null,
   "metadata": {},
   "outputs": [],
   "source": [
    "# Extract masks and labels from prediction\n",
    "masks = prediction[0][\"masks\"]\n",
    "labels = prediction[0][\"labels\"]\n",
    "\n",
    "# Plot image with two overlaid masks\n",
    "for i in range(2):\n",
    "    plt.imshow(image)\n",
    "    # Overlay the i-th mask on top of the image\n",
    "    plt.imshow(masks[i, 0], cmap=\"jet\", alpha=0.5)\n",
    "    #plt.title(f\"Object: {class_names[labels[i]]}\")\n",
    "    plt.show()"
   ]
  }
 ],
 "metadata": {
  "kernelspec": {
   "display_name": "deep-learning-in-python",
   "language": "python",
   "name": "python3"
  },
  "language_info": {
   "codemirror_mode": {
    "name": "ipython",
    "version": 3
   },
   "file_extension": ".py",
   "mimetype": "text/x-python",
   "name": "python",
   "nbconvert_exporter": "python",
   "pygments_lexer": "ipython3",
   "version": "3.11.7"
  }
 },
 "nbformat": 4,
 "nbformat_minor": 2
}
