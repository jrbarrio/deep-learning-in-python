{
 "cells": [
  {
   "cell_type": "markdown",
   "metadata": {},
   "source": [
    "# Introduction to image segmentation"
   ]
  },
  {
   "cell_type": "code",
   "execution_count": null,
   "metadata": {},
   "outputs": [],
   "source": [
    "import torch\n",
    "import torch.nn as nn\n",
    "import torchvision.transforms as transforms\n",
    "\n",
    "from PIL import Image\n",
    "import matplotlib.pyplot as plt\n",
    "\n",
    "from torchvision.models.detection import maskrcnn_resnet50_fpn"
   ]
  },
  {
   "cell_type": "markdown",
   "metadata": {},
   "source": [
    "## Creating binary masks"
   ]
  },
  {
   "cell_type": "code",
   "execution_count": null,
   "metadata": {},
   "outputs": [],
   "source": [
    "# Load mask image\n",
    "mask = Image.open(\"annotations/Egyptian_Mau_123.png\")\n",
    "\n",
    "# Transform mask to tensor\n",
    "transform = transforms.Compose([transforms.ToTensor()])\n",
    "mask_tensor = transform(mask)\n",
    "\n",
    "# Create binary mask\n",
    "binary_mask = torch.where(\n",
    "    mask_tensor == 1/255,\n",
    "    torch.tensor(1.0),\n",
    "    torch.tensor(0.0),\n",
    ")\n",
    "\n",
    "# Print unique mask values\n",
    "print(binary_mask.unique())"
   ]
  },
  {
   "cell_type": "markdown",
   "metadata": {},
   "source": [
    "## Segmenting image with a mask"
   ]
  },
  {
   "cell_type": "code",
   "execution_count": null,
   "metadata": {},
   "outputs": [],
   "source": [
    "# Load image and transform to tensor\n",
    "image = Image.open(\"images/Egyptian_Mau_123.jpg\")\n",
    "transform = transforms.Compose([transforms.ToTensor()])\n",
    "image_tensor = transform(image)\n",
    "\n",
    "# Segment object out of the image\n",
    "object_tensor = image_tensor * binary_mask\n",
    "\n",
    "# Convert segmented object to image and display\n",
    "to_pil_image = transforms.ToPILImage()\n",
    "object_image = to_pil_image(object_tensor)\n",
    "plt.imshow(object_image)\n",
    "plt.show()"
   ]
  },
  {
   "cell_type": "markdown",
   "metadata": {},
   "source": [
    "# Instance segmentation with mask R-CNN"
   ]
  },
  {
   "cell_type": "markdown",
   "metadata": {},
   "source": [
    "## Segmenting with pre-trained Mask R-CNN"
   ]
  },
  {
   "cell_type": "code",
   "execution_count": null,
   "metadata": {},
   "outputs": [],
   "source": [
    "# Load a pre-trained Mask R-CNN model\n",
    "model = maskrcnn_resnet50_fpn(pretrained=True)\n",
    "model.eval()\n",
    "\n",
    "# Load an image and convert to a tensor\n",
    "image = Image.open(\"images/two_cats.jpg\")\n",
    "transform = transforms.Compose([transforms.ToTensor()])\n",
    "image_tensor = transform(image).unsqueeze(0)\n",
    "\n",
    "# Perform inference\n",
    "with torch.no_grad():\n",
    "    prediction = model(image_tensor)\n",
    "    print(prediction)"
   ]
  },
  {
   "cell_type": "markdown",
   "metadata": {},
   "source": [
    "## Displaying soft masks"
   ]
  },
  {
   "cell_type": "code",
   "execution_count": null,
   "metadata": {},
   "outputs": [],
   "source": [
    "# Extract masks and labels from prediction\n",
    "masks = prediction[0][\"masks\"]\n",
    "labels = prediction[0][\"labels\"]\n",
    "\n",
    "# Plot image with two overlaid masks\n",
    "for i in range(2):\n",
    "    plt.imshow(image)\n",
    "    # Overlay the i-th mask on top of the image\n",
    "    plt.imshow(masks[i, 0], cmap=\"jet\", alpha=0.5)\n",
    "    #plt.title(f\"Object: {class_names[labels[i]]}\")\n",
    "    plt.show()"
   ]
  },
  {
   "cell_type": "markdown",
   "metadata": {},
   "source": [
    "# Semantic segmentation with U-Net"
   ]
  },
  {
   "cell_type": "markdown",
   "metadata": {},
   "source": [
    "## Building a U-Net: layers definitions & forward method"
   ]
  },
  {
   "cell_type": "code",
   "execution_count": null,
   "metadata": {},
   "outputs": [],
   "source": [
    "class UNet(nn.Module):\n",
    "  def __init__(self, in_channels, out_channels):\n",
    "    super(UNet, self).__init__()\n",
    "\n",
    "    self.enc1 = self.conv_block(in_channels, 64)\n",
    "    self.enc2 = self.conv_block(64, 128)\n",
    "    self.enc3 = self.conv_block(128, 256)\n",
    "    self.enc4 = self.conv_block(256, 512)\n",
    "\n",
    "    self.pool = nn.MaxPool2d(kernel_size=2, stride=2)\n",
    "\n",
    "    self.upconv3 = nn.ConvTranspose2d(512, 256, kernel_size=2, stride=2)\n",
    "    self.upconv2 = nn.ConvTranspose2d(256, 128, kernel_size=2, stride=2)\n",
    "    self.upconv1 = nn.ConvTranspose2d(128, 64, kernel_size=2, stride=2)\n",
    "    \n",
    "    # Define the decoder blocks\n",
    "    self.dec1 = self.conv_block(512, 256)\n",
    "    self.dec2 = self.conv_block(256, 128)\n",
    "    self.dec3 = self.conv_block(128, 64)\n",
    "\n",
    "    self.out = nn.Conv2d(64, out_channels, kernel_size=1)\n",
    "  \n",
    "  def conv_block(self, in_channels, out_channels):\n",
    "    return nn.Sequential(\n",
    "      nn.Conv2d(in_channels, out_channels),\n",
    "      nn.ReLU(inplace=True),\n",
    "      nn.Conv2d(out_channels, out_channels),\n",
    "      nn.ReLU(inplace=True)\n",
    "    )\n",
    "  \n",
    "  def forward(self, x):\n",
    "    x1 = self.enc1(x)\n",
    "    x2 = self.enc2(self.pool(x1))\n",
    "    x3 = self.enc3(self.pool(x2))\n",
    "    x4 = self.enc4(self.pool(x3))\n",
    "\n",
    "    x = self.upconv3(x4)\n",
    "    x = torch.cat([x, x3], dim=1)\n",
    "    x = self.dec1(x)\n",
    "\n",
    "    x = self.upconv2(x)\n",
    "    x = torch.cat([x, x2], dim=1)\n",
    "    x = self.dec2(x)\n",
    "\n",
    "    # Define the last decoder block with skip connections\n",
    "    x = self.upconv1(x)\n",
    "    x = torch.cat([x, x1], dim=1)\n",
    "    x = self.dec3(x)\n",
    "\n",
    "    return self.out(x)"
   ]
  },
  {
   "cell_type": "markdown",
   "metadata": {},
   "source": [
    "## Running semantic segmentation"
   ]
  },
  {
   "cell_type": "code",
   "execution_count": null,
   "metadata": {},
   "outputs": [],
   "source": [
    "# Load model\n",
    "model = UNet()\n",
    "model.eval()\n",
    "\n",
    "# Load and transform image\n",
    "image = Image.open(\"images/car.jpg\")\n",
    "transform = transforms.Compose([transforms.ToTensor()])\n",
    "image_tensor = transform(image).unsqueeze(0)\n",
    "\n",
    "# Predict segmentation mask\n",
    "with torch.no_grad():\n",
    "    prediction = model(image_tensor).squeeze(0)\n",
    "\n",
    "# Display mask\n",
    "plt.imshow(prediction[1, :, :])\n",
    "plt.show()"
   ]
  }
 ],
 "metadata": {
  "kernelspec": {
   "display_name": "deep-learning-in-python",
   "language": "python",
   "name": "python3"
  },
  "language_info": {
   "codemirror_mode": {
    "name": "ipython",
    "version": 3
   },
   "file_extension": ".py",
   "mimetype": "text/x-python",
   "name": "python",
   "nbconvert_exporter": "python",
   "pygments_lexer": "ipython3",
   "version": "3.11.7"
  }
 },
 "nbformat": 4,
 "nbformat_minor": 2
}
