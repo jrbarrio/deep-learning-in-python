{
 "cells": [
  {
   "cell_type": "markdown",
   "metadata": {},
   "source": [
    "# Binary and multiclass image classification"
   ]
  },
  {
   "cell_type": "code",
   "execution_count": 3,
   "metadata": {},
   "outputs": [],
   "source": [
    "import numpy as np\n",
    "import torch\n",
    "import torch.nn as nn\n",
    "import torch.optim as optim\n",
    "from torch.utils.data import Dataset, DataLoader\n",
    "from torchmetrics import Accuracy, Precision, Recall\n",
    "\n",
    "from torchvision import datasets\n",
    "import torchvision.transforms as transforms"
   ]
  },
  {
   "cell_type": "markdown",
   "metadata": {},
   "source": [
    "## Binary classification model"
   ]
  },
  {
   "cell_type": "code",
   "execution_count": 4,
   "metadata": {},
   "outputs": [],
   "source": [
    "class BinaryImageClassifier(nn.Module):\n",
    "  def __init__(self):\n",
    "    super(BinaryImageClassifier, self).__init__()\n",
    "    \n",
    "    # Create a convolutional layer\n",
    "    self.conv1 = nn.Conv2d(3, 16, kernel_size=3, stride=1, padding=1)\n",
    "    self.relu = nn.ReLU()\n",
    "    self.maxpool = nn.MaxPool2d(kernel_size=2, stride=2)\n",
    "    self.flatten = nn.Flatten()\n",
    "    \n",
    "    # Create a fully connected layer\n",
    "    self.fc = nn.Linear(16*32*32, 1)\n",
    "    \n",
    "    # Create an activation function\n",
    "    self.sigmoid = nn.Sigmoid()"
   ]
  },
  {
   "cell_type": "markdown",
   "metadata": {},
   "source": [
    "## Multiclass classification model"
   ]
  },
  {
   "cell_type": "code",
   "execution_count": 5,
   "metadata": {},
   "outputs": [],
   "source": [
    "class MultiClassImageClassifier(nn.Module):\n",
    "  \n",
    "  # Define the init method\n",
    "  def __init__(self, num_classes):\n",
    "    super(MultiClassImageClassifier, self).__init__()\n",
    "    self.conv1 = nn.Conv2d(3, 16, kernel_size=3, stride=1, padding=1)\n",
    "    self.relu = nn.ReLU()\n",
    "    self.maxpool = nn.MaxPool2d(kernel_size=2, stride=2)\n",
    "    self.flatten = nn.Flatten()\n",
    "\n",
    "    # Create a fully connected layer\n",
    "    self.fc = nn.Linear(16*32*32, num_classes)\n",
    "    \n",
    "    # Create an activation function\n",
    "    self.softmax = nn.Softmax(dim=1)"
   ]
  }
 ],
 "metadata": {
  "kernelspec": {
   "display_name": "deep-learning-in-python",
   "language": "python",
   "name": "python3"
  },
  "language_info": {
   "codemirror_mode": {
    "name": "ipython",
    "version": 3
   },
   "file_extension": ".py",
   "mimetype": "text/x-python",
   "name": "python",
   "nbconvert_exporter": "python",
   "pygments_lexer": "ipython3",
   "version": "3.11.7"
  }
 },
 "nbformat": 4,
 "nbformat_minor": 2
}
