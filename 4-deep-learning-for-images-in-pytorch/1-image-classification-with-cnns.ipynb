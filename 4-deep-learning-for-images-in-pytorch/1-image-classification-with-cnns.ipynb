{
 "cells": [
  {
   "cell_type": "markdown",
   "metadata": {},
   "source": [
    "# Binary and multiclass image classification"
   ]
  },
  {
   "cell_type": "code",
   "execution_count": null,
   "metadata": {},
   "outputs": [],
   "source": [
    "import numpy as np\n",
    "import torch\n",
    "import torch.nn as nn\n",
    "import torch.optim as optim\n",
    "from torch.utils.data import Dataset, DataLoader\n",
    "from torchmetrics import Accuracy, Precision, Recall\n",
    "\n",
    "from torchvision import datasets\n",
    "import torchvision.transforms as transforms\n",
    "\n",
    "from torchvision.models import (resnet18, ResNet18_Weights)\n",
    "\n",
    "from PIL import Image"
   ]
  },
  {
   "cell_type": "markdown",
   "metadata": {},
   "source": [
    "## Binary classification model"
   ]
  },
  {
   "cell_type": "code",
   "execution_count": null,
   "metadata": {},
   "outputs": [],
   "source": [
    "class BinaryImageClassifier(nn.Module):\n",
    "  def __init__(self):\n",
    "    super(BinaryImageClassifier, self).__init__()\n",
    "    \n",
    "    # Create a convolutional layer\n",
    "    self.conv1 = nn.Conv2d(3, 16, kernel_size=3, stride=1, padding=1)\n",
    "    self.relu = nn.ReLU()\n",
    "    self.maxpool = nn.MaxPool2d(kernel_size=2, stride=2)\n",
    "    self.flatten = nn.Flatten()\n",
    "    \n",
    "    # Create a fully connected layer\n",
    "    self.fc = nn.Linear(16*32*32, 1)\n",
    "    \n",
    "    # Create an activation function\n",
    "    self.sigmoid = nn.Sigmoid()"
   ]
  },
  {
   "cell_type": "markdown",
   "metadata": {},
   "source": [
    "## Multiclass classification model"
   ]
  },
  {
   "cell_type": "code",
   "execution_count": null,
   "metadata": {},
   "outputs": [],
   "source": [
    "class MultiClassImageClassifier(nn.Module):\n",
    "  \n",
    "  # Define the init method\n",
    "  def __init__(self, num_classes):\n",
    "    super(MultiClassImageClassifier, self).__init__()\n",
    "    self.conv1 = nn.Conv2d(3, 16, kernel_size=3, stride=1, padding=1)\n",
    "    self.relu = nn.ReLU()\n",
    "    self.maxpool = nn.MaxPool2d(kernel_size=2, stride=2)\n",
    "    self.flatten = nn.Flatten()\n",
    "\n",
    "    # Create a fully connected layer\n",
    "    self.fc = nn.Linear(16*32*32, num_classes)\n",
    "    \n",
    "    # Create an activation function\n",
    "    self.softmax = nn.Softmax(dim=1)"
   ]
  },
  {
   "cell_type": "markdown",
   "metadata": {},
   "source": [
    "# Convolutional layers for images"
   ]
  },
  {
   "cell_type": "markdown",
   "metadata": {},
   "source": [
    "## Adding a new convolutional layer"
   ]
  },
  {
   "cell_type": "code",
   "execution_count": null,
   "metadata": {},
   "outputs": [],
   "source": [
    "class CNNModel(nn.Module):\n",
    "  def __init__(self):\n",
    "    super(CNNModel, self).__init__()\n",
    "    self.conv1 = nn.Conv2d(in_channels=3, out_channels=16, kernel_size=3, padding=1)\n",
    "\n",
    "# Create a model\n",
    "model = CNNModel()\n",
    "print(\"Original model: \", model)\n",
    "\n",
    "# Create a new convolutional layer\n",
    "conv2 = nn.Conv2d(in_channels=16, out_channels=32, kernel_size=1, padding=1)\n",
    "\n",
    "# Append the new layer to the model\n",
    "model.add_module('conv2', conv2)\n",
    "print(\"Extended model: \", model)"
   ]
  },
  {
   "cell_type": "markdown",
   "metadata": {},
   "source": [
    "## Creating a sequential block"
   ]
  },
  {
   "cell_type": "code",
   "execution_count": null,
   "metadata": {},
   "outputs": [],
   "source": [
    "class BinaryImageClassification(nn.Module):\n",
    "  def __init__(self):\n",
    "    super(BinaryImageClassification, self).__init__()\n",
    "    # Create a convolutional block\n",
    "    self.conv_block = nn.Sequential(\n",
    "      nn.Conv2d(3, 16, kernel_size=3, stride=1, padding=1),\n",
    "      nn.ReLU(),\n",
    "      nn.Conv2d(16, 32, kernel_size=3, stride=1, padding=1),\n",
    "      nn.ReLU(),\n",
    "    )\n",
    "    \n",
    "  def forward(self, x):\n",
    "    # Pass inputs through the convolutional block\n",
    "    x = self.conv_block(x)\n",
    "    return x"
   ]
  },
  {
   "cell_type": "markdown",
   "metadata": {},
   "source": [
    "# Working with pre-trained models"
   ]
  },
  {
   "cell_type": "markdown",
   "metadata": {},
   "source": [
    "## Save and load a data model"
   ]
  },
  {
   "cell_type": "code",
   "execution_count": null,
   "metadata": {},
   "outputs": [],
   "source": [
    "model = CNNModel()\n",
    "\n",
    "# Save the model\n",
    "torch.save(model.state_dict(), 'models/ModelCNN.pth')\n",
    "\n",
    "# Create a new model\n",
    "loaded_model = CNNModel()\n",
    "\n",
    "# Load the saved model\n",
    "loaded_model.load_state_dict(torch.load('models/ModelCNN.pth'))\n",
    "print(loaded_model)"
   ]
  },
  {
   "cell_type": "markdown",
   "metadata": {},
   "source": [
    "## Loading a pre-trained model"
   ]
  },
  {
   "cell_type": "code",
   "execution_count": null,
   "metadata": {},
   "outputs": [],
   "source": [
    "# Initialize model with default weights\n",
    "weights = ResNet18_Weights.DEFAULT\n",
    "model = resnet18(weights=weights)\n",
    "\n",
    "# Set model to evaluation mode\n",
    "model.eval()\n",
    "\n",
    "# Initialize the transforms\n",
    "transform = weights.transforms()"
   ]
  },
  {
   "cell_type": "markdown",
   "metadata": {},
   "source": [
    "## Image classification with ResNet"
   ]
  },
  {
   "cell_type": "code",
   "execution_count": null,
   "metadata": {},
   "outputs": [],
   "source": [
    "image = Image.open(\"images/cat.jpeg\")\n",
    "image_tensor = transform(image)\n",
    "image_reshaped = image_tensor.unsqueeze(0)\n",
    "\n",
    "model.eval()\n",
    "\n",
    "with torch.no_grad():\n",
    "  pred = model(image_reshaped).squeeze(0)\n",
    "\n",
    "pred_cls = pred.softmax(0)\n",
    "cls_id = pred_cls.argmax().item()\n",
    "cls_name = weights.meta[\"categories\"][cls_id]\n",
    "\n",
    "print(cls_name)"
   ]
  }
 ],
 "metadata": {
  "kernelspec": {
   "display_name": "deep-learning-in-python",
   "language": "python",
   "name": "python3"
  },
  "language_info": {
   "codemirror_mode": {
    "name": "ipython",
    "version": 3
   },
   "file_extension": ".py",
   "mimetype": "text/x-python",
   "name": "python",
   "nbconvert_exporter": "python",
   "pygments_lexer": "ipython3",
   "version": "3.11.7"
  }
 },
 "nbformat": 4,
 "nbformat_minor": 2
}
