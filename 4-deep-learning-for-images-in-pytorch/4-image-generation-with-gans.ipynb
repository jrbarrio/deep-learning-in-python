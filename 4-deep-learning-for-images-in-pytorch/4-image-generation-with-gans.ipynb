{
 "cells": [
  {
   "cell_type": "markdown",
   "metadata": {},
   "source": [
    "# Introduction to GANs"
   ]
  },
  {
   "cell_type": "code",
   "execution_count": 3,
   "metadata": {},
   "outputs": [],
   "source": [
    "import torch\n",
    "import torch.nn as nn"
   ]
  },
  {
   "cell_type": "markdown",
   "metadata": {},
   "source": [
    "## Generator"
   ]
  },
  {
   "cell_type": "code",
   "execution_count": 4,
   "metadata": {},
   "outputs": [],
   "source": [
    "class Generator(nn.Module):\n",
    "    def __init__(self, in_dim, out_dim):\n",
    "      super(Generator, self).__init__()\n",
    "      # Define generator block\n",
    "      self.generator = nn.Sequential(\n",
    "        gen_block(in_dim, 256),\n",
    "        gen_block(256, 512),\n",
    "        gen_block(512, 1024),\n",
    "        # Add linear layer\n",
    "        nn.Linear(1024, out_dim),\n",
    "        # Add activation\n",
    "        nn.Sigmoid(),\n",
    "      )\n",
    "\n",
    "    def forward(self, x):\n",
    "      \t# Pass input through generator\n",
    "        return self.generator(x)\n",
    "\n",
    "def gen_block(in_dim, out_dim):\n",
    "  return nn.Sequential(\n",
    "    nn.Linear(in_dim, out_dim),\n",
    "    nn.BatchNorm1d(out_dim),\n",
    "    nn.ReLU(inplace=True)\n",
    "  )"
   ]
  },
  {
   "cell_type": "markdown",
   "metadata": {},
   "source": [
    "## Discriminator"
   ]
  },
  {
   "cell_type": "code",
   "execution_count": 5,
   "metadata": {},
   "outputs": [],
   "source": [
    "class Discriminator(nn.Module):\n",
    "  def __init__(self, im_dim):\n",
    "    super(Discriminator, self).__init__()\n",
    "    self.disc = nn.Sequential(\n",
    "      disc_block(im_dim, 1024),\n",
    "      disc_block(1024, 512),\n",
    "      # Define last discriminator block\n",
    "      disc_block(512, 256),\n",
    "      # Add a linear layer\n",
    "      nn.Linear(256, 1),\n",
    "    )\n",
    "\n",
    "  def forward(self, x):\n",
    "    # Define the forward method\n",
    "    return self.disc(x)\n",
    "\n",
    "def disc_block(in_dim, out_dim):\n",
    "  return nn.Sequential(\n",
    "    nn.Linear(in_dim, out_dim),\n",
    "    nn.LeakyReLU(0.2)\n",
    "  )"
   ]
  }
 ],
 "metadata": {
  "kernelspec": {
   "display_name": "deep-learning-in-python",
   "language": "python",
   "name": "python3"
  },
  "language_info": {
   "codemirror_mode": {
    "name": "ipython",
    "version": 3
   },
   "file_extension": ".py",
   "mimetype": "text/x-python",
   "name": "python",
   "nbconvert_exporter": "python",
   "pygments_lexer": "ipython3",
   "version": "3.11.7"
  }
 },
 "nbformat": 4,
 "nbformat_minor": 2
}
