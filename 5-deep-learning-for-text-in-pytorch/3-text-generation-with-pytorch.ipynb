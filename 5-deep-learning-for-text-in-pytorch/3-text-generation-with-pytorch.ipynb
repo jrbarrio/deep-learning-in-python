{
 "cells": [
  {
   "cell_type": "markdown",
   "metadata": {},
   "source": [
    "# Introduction to text generation"
   ]
  },
  {
   "cell_type": "code",
   "execution_count": null,
   "metadata": {},
   "outputs": [],
   "source": [
    "import torch\n",
    "import torch.nn as nn"
   ]
  },
  {
   "cell_type": "markdown",
   "metadata": {},
   "source": [
    "## Creating a RNN model for text generation"
   ]
  },
  {
   "cell_type": "code",
   "execution_count": null,
   "metadata": {},
   "outputs": [],
   "source": [
    "data = \"Hello how are you?\"\n",
    "chars = list(set(data))\n",
    "char_to_ix = {char: i for i, char in enumerate(chars)}\n",
    "ix_to_char = {i: char for i, char in enumerate(chars)}\n",
    "\n",
    "# Include an RNN layer and linear layer in RNNmodel class\n",
    "class RNNmodel(nn.Module):\n",
    "  def __init__(self, input_size, hidden_size, output_size):\n",
    "    super(RNNmodel, self).__init__()\n",
    "    self.hidden_size = hidden_size\n",
    "    self.rnn = nn.RNN(input_size, hidden_size, batch_first=True)\n",
    "    self.fc = nn.Linear(hidden_size, output_size)\n",
    "\n",
    "  def forward(self, x):\n",
    "    h0 = torch.zeros(1, x.size(0), self.hidden_size)\n",
    "    out, _ = self.rnn(x, h0)  \n",
    "    out = self.fc(out[:, -1, :])  \n",
    "    return out\n",
    "\n",
    "# Instantiate the RNN model\n",
    "model = RNNmodel(len(chars), 16, len(chars))"
   ]
  },
  {
   "cell_type": "markdown",
   "metadata": {},
   "source": [
    "## Text generation using RNN - Training and Generation"
   ]
  },
  {
   "cell_type": "code",
   "execution_count": null,
   "metadata": {},
   "outputs": [],
   "source": [
    "# Instantiate the loss function\n",
    "criterion = nn.CrossEntropyLoss()\n",
    "# Instantiate the optimizer\n",
    "optimizer = torch.optim.Adam(model.parameters(), lr=0.01)\n",
    "\n",
    "inputs = [char_to_ix[ch] for ch in data[:-1]]\n",
    "targets = [char_to_ix[ch] for ch in data[1:]]\n",
    "\n",
    "inputs = torch.tensor(inputs, dtype=torch.long).view(-1, 1)\n",
    "inputs = nn.functional.one_hot(inputs, num_classes=len(chars)).float()\n",
    "\n",
    "targets = torch.tensor(targets, dtype=torch.long)\n",
    "\n",
    "# Train the model\n",
    "for epoch in range(100):\n",
    "  model.train()\n",
    "  outputs = model(inputs)\n",
    "  loss = criterion(outputs, targets)\n",
    "  optimizer.zero_grad()\n",
    "  loss.backward()\n",
    "  optimizer.step()\n",
    "  if (epoch+1) % 10 == 0:\n",
    "      print(f'Epoch {epoch+1}/100, Loss: {loss.item()}')\n",
    "\n",
    "# Test the model\n",
    "model.eval()\n",
    "test_input = char_to_ix['r']\n",
    "test_input = nn.functional.one_hot(torch.tensor(test_input).view(-1, 1), num_classes=len(chars)).float()\n",
    "predicted_output = model(test_input)\n",
    "predicted_char_ix = torch.argmax(predicted_output, 1).item()\n",
    "print(f\"Test Input: 'r', Predicted Output: '{ix_to_char[predicted_char_ix]}'\")"
   ]
  },
  {
   "cell_type": "markdown",
   "metadata": {},
   "source": [
    "# Generative adversarial networks for text generation"
   ]
  },
  {
   "cell_type": "markdown",
   "metadata": {},
   "source": [
    "## Building a generator and discriminator"
   ]
  },
  {
   "cell_type": "code",
   "execution_count": null,
   "metadata": {},
   "outputs": [],
   "source": [
    "# Define the generator class\n",
    "class Generator(nn.Module):\n",
    "  def __init__(self):\n",
    "    super().__init__()\n",
    "    self.model = nn.Sequential(nn.Linear(seq_length, seq_length), nn.Sigmoid())\n",
    "  def forward(self, x):\n",
    "    return self.model(x)\n",
    "\n",
    "# Define the discriminator networks\n",
    "class Discriminator(nn.Module):\n",
    "  def __init__(self):\n",
    "    super().__init__()\n",
    "    self.model = nn.Sequential(nn.Linear(seq_length, 1), nn.Sigmoid())\n",
    "  def forward(self, x):\n",
    "    return self.model(x)"
   ]
  },
  {
   "cell_type": "markdown",
   "metadata": {},
   "source": [
    "## Training a GAN model"
   ]
  },
  {
   "cell_type": "code",
   "execution_count": null,
   "metadata": {},
   "outputs": [],
   "source": [
    "num_epochs = 100\n",
    "seq_length = 4\n",
    "print_every = 10\n",
    "\n",
    "generator = Generator()\n",
    "discriminator = Discriminator()\n",
    "\n",
    "# Define the loss function and optimizer\n",
    "criterion = nn.BCELoss()\n",
    "optimizer_gen = torch.optim.Adam(generator.parameters(), lr=0.001)\n",
    "optimizer_disc = torch.optim.Adam(discriminator.parameters(), lr=0.001)\n",
    "\n",
    "for epoch in range(num_epochs):\n",
    "  for real_data in data:\n",
    "    # Unsqueezing real_data and prevent gradient recalculations\n",
    "    real_data = real_data.unsqueeze(0)\n",
    "    noise = torch.rand((1, seq_length))\n",
    "    fake_data = generator(noise)\n",
    "    disc_real = discriminator(real_data)\n",
    "    disc_fake = discriminator(fake_data.detach())\n",
    "    loss_disc = criterion(disc_real, torch.ones_like(disc_real)) + criterion(disc_fake, torch.zeros_like(disc_fake))\n",
    "    optimizer_disc.zero_grad()\n",
    "    loss_disc.backward()\n",
    "    optimizer_disc.step()\n",
    "\n",
    "    # Train the generator\n",
    "    disc_fake = discriminator(fake_data)\n",
    "    loss_gen = criterion(disc_fake, torch.ones_like(disc_fake))\n",
    "    optimizer_gen.zero_grad()\n",
    "    loss_gen.backward()\n",
    "    optimizer_gen.step()\n",
    "\n",
    "  if (epoch+1) % print_every == 0:\n",
    "    print(f\"Epoch {epoch+1}/{num_epochs}:\\t Generator loss: {loss_gen.item()}\\t Discriminator loss: {loss_disc.item()}\")\n",
    "\n",
    "print(\"\\nReal data: \")\n",
    "print(data[:5])\n",
    "\n",
    "print(\"\\nGenerated data: \")\n",
    "for _ in range(5):\n",
    "  noise = torch.rand((1, seq_length))\n",
    "  generated_data = generator(noise)\n",
    "  # Detach the tensor and print data\n",
    "  print(torch.round(generated_data).detach())"
   ]
  }
 ],
 "metadata": {
  "kernelspec": {
   "display_name": "deep-learning-in-python",
   "language": "python",
   "name": "python3"
  },
  "language_info": {
   "codemirror_mode": {
    "name": "ipython",
    "version": 3
   },
   "file_extension": ".py",
   "mimetype": "text/x-python",
   "name": "python",
   "nbconvert_exporter": "python",
   "pygments_lexer": "ipython3",
   "version": "3.11.7"
  }
 },
 "nbformat": 4,
 "nbformat_minor": 2
}
