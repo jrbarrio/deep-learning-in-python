{
 "cells": [
  {
   "cell_type": "markdown",
   "metadata": {},
   "source": [
    "# Overview of text classification"
   ]
  },
  {
   "cell_type": "code",
   "execution_count": null,
   "metadata": {},
   "outputs": [],
   "source": [
    "import torch\n",
    "import torch.nn as nn\n",
    "import torch.nn.functional as F\n",
    "import torch.optim as optim"
   ]
  },
  {
   "cell_type": "markdown",
   "metadata": {},
   "source": [
    "## Embedding in Pytorch"
   ]
  },
  {
   "cell_type": "code",
   "execution_count": null,
   "metadata": {},
   "outputs": [],
   "source": [
    "# Map a unique index to each word\n",
    "words = [\"This\", \"book\", \"was\", \"fantastic\", \"I\", \"really\", \"love\", \"science\", \"fiction\", \"but\", \"the\", \"protagonist\", \"was\", \"rude\", \"sometimes\"]\n",
    "word_to_idx = {word: i for i, word in enumerate(words)}\n",
    "\n",
    "# Convert word_to_idx to a tensor\n",
    "inputs = torch.LongTensor([word_to_idx[w] for w in words])\n",
    "\n",
    "# Initialize embedding layer with ten dimensions\n",
    "embedding = nn.Embedding(num_embeddings=len(words), embedding_dim=10)\n",
    "\n",
    "# Pass the tensor to the embedding layer\n",
    "output = embedding(inputs)\n",
    "print(output)"
   ]
  },
  {
   "cell_type": "markdown",
   "metadata": {},
   "source": [
    "# Convolutional neural networks for text classification"
   ]
  },
  {
   "cell_type": "markdown",
   "metadata": {},
   "source": [
    "## Build a CNN model for text"
   ]
  },
  {
   "cell_type": "code",
   "execution_count": null,
   "metadata": {},
   "outputs": [],
   "source": [
    "class TextClassificationCNN(nn.Module):\n",
    "  def __init__(self, vocab_size, embed_dim):\n",
    "    super(TextClassificationCNN, self).__init__()\n",
    "    # Initialize the embedding layer \n",
    "    self.embedding = nn.Embedding(vocab_size, embed_dim)\n",
    "    self.conv = nn.Conv1d(embed_dim, embed_dim, kernel_size=3, stride=1, padding=1)\n",
    "    self.fc = nn.Linear(embed_dim, 2)\n",
    "  def forward(self, text):\n",
    "    embedded = self.embedding(text).permute(0, 2, 1)\n",
    "    # Pass the embedded text through the convolutional layer and apply a ReLU\n",
    "    conved = F.relu(self.conv(embedded))\n",
    "    conved = conved.mean(dim=2) \n",
    "    return self.fc(conved)"
   ]
  },
  {
   "cell_type": "markdown",
   "metadata": {},
   "source": [
    "## Train a CNN model for text"
   ]
  },
  {
   "cell_type": "code",
   "execution_count": null,
   "metadata": {},
   "outputs": [],
   "source": [
    "vocab = [\"i\", \"love\", \"this\", \"book\", \"do\", \"not\", \"like\"]\n",
    "word_to_idx = {word: i for i, word in enumerate(vocab)}\n",
    "vocab_size = len(word_to_idx)\n",
    "embed_dim = 10\n",
    "book_samples = [\n",
    "  (\"The story was captivating and kept me hooked until the end.\".split(),1),\n",
    "  (\"I found the characters shallow and the plot predictable.\".split(),0)\n",
    "]\n",
    "model = TextClassificationCNN(vocab_size, embed_dim)\n",
    "\n",
    "# Define the loss function\n",
    "criterion = nn.CrossEntropyLoss()\n",
    "optimizer = optim.SGD(model.parameters(), lr=0.1)\n",
    "\n",
    "for epoch in range(10):\n",
    "  for sentence, label in book_samples:     \n",
    "    # Clear the gradients\n",
    "    model.zero_grad()\n",
    "    sentence = torch.LongTensor([word_to_idx.get(w, 0) for w in sentence]).unsqueeze(0) \n",
    "    label = torch.LongTensor([int(label)])\n",
    "    outputs = model(sentence)\n",
    "    loss = criterion(outputs, label)\n",
    "    loss.backward()\n",
    "    # Update the parameters\n",
    "    optimizer.step()\n",
    "print('Training complete!')"
   ]
  },
  {
   "cell_type": "markdown",
   "metadata": {},
   "source": [
    "## Testing the Sentiment Analysis CNN model"
   ]
  },
  {
   "cell_type": "code",
   "execution_count": null,
   "metadata": {},
   "outputs": [],
   "source": [
    "book_reviews = [\n",
    "    \"I love this book\".split(),\n",
    "    \"I do not like this book\".split()\n",
    "]\n",
    "\n",
    "for review in book_reviews:\n",
    "  # Convert the review words into tensor form\n",
    "  input_tensor = torch.tensor([word_to_idx[w.lower()] for w in review], dtype=torch.long).unsqueeze(0) \n",
    "  # Get the model's output\n",
    "  outputs = model(input_tensor)\n",
    "  # Find the index of the most likely sentiment category\n",
    "  _, predicted_label = torch.max(outputs.data, 1)\n",
    "  # Convert the predicted label into a sentiment string\n",
    "  sentiment = \"Positive\" if predicted_label.item() else \"Negative\"\n",
    "  print(f\"Book Review: {' '.join(review)}\")\n",
    "  print(f\"Sentiment: {sentiment}\\n\")"
   ]
  }
 ],
 "metadata": {
  "kernelspec": {
   "display_name": "deep-learning-in-python",
   "language": "python",
   "name": "python3"
  },
  "language_info": {
   "codemirror_mode": {
    "name": "ipython",
    "version": 3
   },
   "file_extension": ".py",
   "mimetype": "text/x-python",
   "name": "python",
   "nbconvert_exporter": "python",
   "pygments_lexer": "ipython3",
   "version": "3.11.7"
  }
 },
 "nbformat": 4,
 "nbformat_minor": 2
}
