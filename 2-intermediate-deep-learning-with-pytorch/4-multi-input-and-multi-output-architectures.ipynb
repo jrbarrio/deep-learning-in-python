{
 "cells": [
  {
   "cell_type": "markdown",
   "metadata": {},
   "source": [
    "# Multi-input models"
   ]
  },
  {
   "cell_type": "code",
   "execution_count": 4,
   "metadata": {},
   "outputs": [],
   "source": [
    "from PIL import Image\n",
    "\n",
    "import torch\n",
    "from torch.utils.data import Dataset\n",
    "\n",
    "import torch.nn as nn"
   ]
  },
  {
   "cell_type": "markdown",
   "metadata": {},
   "source": [
    "## Two-input dataset"
   ]
  },
  {
   "cell_type": "code",
   "execution_count": 5,
   "metadata": {},
   "outputs": [],
   "source": [
    "class OmniglotDataset(Dataset):\n",
    "  def __init__(self, transform, samples):\n",
    "    self.transform = transform\n",
    "    self.samples = samples\n",
    "                  \n",
    "  def __len__(self):\n",
    "    return len(self.samples)\n",
    "\n",
    "  def __getitem__(self, idx):\n",
    "    img_path, alphabet, label = self.samples[idx]\n",
    "    img = Image.open(img_path).convert('L')\n",
    "    img_transformed = self.transform(img)\n",
    "    return img_transformed, alphabet, label"
   ]
  },
  {
   "cell_type": "markdown",
   "metadata": {},
   "source": [
    "## Two-input model"
   ]
  },
  {
   "cell_type": "code",
   "execution_count": 6,
   "metadata": {},
   "outputs": [],
   "source": [
    "class Net(nn.Module):\n",
    "  def __init__(self):\n",
    "    super(Net, self).__init__()\n",
    "    self.image_layer = nn.Sequential(\n",
    "      nn.Conv2d(1, 16, kernel_size=3, padding=1),\n",
    "      nn.MaxPool2d(kernel_size=2),\n",
    "      nn.ELU(),\n",
    "      nn.Flatten(),\n",
    "      nn.Linear(16*32*32, 128)\n",
    "    )\n",
    "    self.alphabet_layer = nn.Sequential(\n",
    "      nn.Linear(30, 8),\n",
    "      nn.ELU(), \n",
    "    )\n",
    "    self.classifier = nn.Sequential(\n",
    "      nn.Linear(128 + 8, 964), \n",
    "    )\n",
    "      \n",
    "  def forward(self, x_image, x_alphabet):\n",
    "    x_image = self.image_layer(x_image)\n",
    "    x_alphabet = self.alphabet_layer(x_alphabet)\n",
    "    x = torch.cat((x_image, x_alphabet), dim=1)\n",
    "    return self.classifier(x)"
   ]
  }
 ],
 "metadata": {
  "kernelspec": {
   "display_name": "deep-learning-in-python",
   "language": "python",
   "name": "python3"
  },
  "language_info": {
   "codemirror_mode": {
    "name": "ipython",
    "version": 3
   },
   "file_extension": ".py",
   "mimetype": "text/x-python",
   "name": "python",
   "nbconvert_exporter": "python",
   "pygments_lexer": "ipython3",
   "version": "3.11.7"
  }
 },
 "nbformat": 4,
 "nbformat_minor": 2
}
